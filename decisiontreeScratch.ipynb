{
  "nbformat": 4,
  "nbformat_minor": 0,
  "metadata": {
    "colab": {
      "name": "decisiontreeScratch",
      "version": "0.3.2",
      "provenance": [],
      "collapsed_sections": [],
      "include_colab_link": true
    },
    "kernelspec": {
      "name": "python3",
      "display_name": "Python 3"
    }
  },
  "cells": [
    {
      "cell_type": "markdown",
      "metadata": {
        "id": "view-in-github",
        "colab_type": "text"
      },
      "source": [
        "<a href=\"https://colab.research.google.com/github/rahul897/colab/blob/master/decisiontreeScratch.ipynb\" target=\"_parent\"><img src=\"https://colab.research.google.com/assets/colab-badge.svg\" alt=\"Open In Colab\"/></a>"
      ]
    },
    {
      "cell_type": "code",
      "metadata": {
        "id": "1XezHysaEYCV",
        "colab_type": "code",
        "colab": {}
      },
      "source": [
        "train = [['Green', 3, 'Apple'],\n",
        "    ['Yellow', 3, 'Apple'],\n",
        "    ['Red', 1, 'Grape'],\n",
        "    ['Red', 1, 'Grape'],\n",
        "    ['Yellow', 3, 'Lemon'],\n",
        "]\n",
        "\n",
        "header = [\"color\", \"diameter\", \"label\"]"
      ],
      "execution_count": 0,
      "outputs": []
    },
    {
      "cell_type": "code",
      "metadata": {
        "id": "-c6UReTFFAdS",
        "colab_type": "code",
        "colab": {}
      },
      "source": [
        "class Question:\n",
        "  def __init__(self,col,val):\n",
        "    self.col = col\n",
        "    self.val = val\n",
        "   \n",
        "  def match(self,row):\n",
        "    val = row[self.col]\n",
        "    if isinstance(val, int) or isinstance(val, float):\n",
        "      return val>=self.val\n",
        "    else:\n",
        "      return val==self.val\n",
        "  \n",
        "  def __repr__(self):\n",
        "    condition = \"==\"\n",
        "    if isinstance(self.val, int) or isinstance(self.val, float):\n",
        "        condition = \">=\"\n",
        "    return \"Is %s %s %s?\" % (\n",
        "        header[self.col], condition, str(self.val))"
      ],
      "execution_count": 0,
      "outputs": []
    },
    {
      "cell_type": "code",
      "metadata": {
        "id": "be_ny1iJGGSj",
        "colab_type": "code",
        "colab": {
          "base_uri": "https://localhost:8080/",
          "height": 34
        },
        "outputId": "a0f2bf69-95c5-4c00-a66a-84467029eab2"
      },
      "source": [
        "Question(1, 3)"
      ],
      "execution_count": 11,
      "outputs": [
        {
          "output_type": "execute_result",
          "data": {
            "text/plain": [
              "Is diameter >= 3?"
            ]
          },
          "metadata": {
            "tags": []
          },
          "execution_count": 11
        }
      ]
    },
    {
      "cell_type": "code",
      "metadata": {
        "id": "1C6Kmi9uGMqP",
        "colab_type": "code",
        "colab": {}
      },
      "source": [
        "def partition(rows,ques):\n",
        "  \n",
        "  tr = list(filter(lambda x:ques.match(x),rows))\n",
        "  fr = list(filter(lambda x:not ques.match(x),rows))\n",
        "  \n",
        "  return tr,fr"
      ],
      "execution_count": 0,
      "outputs": []
    },
    {
      "cell_type": "code",
      "metadata": {
        "id": "NmUryfjhHNHd",
        "colab_type": "code",
        "colab": {
          "base_uri": "https://localhost:8080/",
          "height": 34
        },
        "outputId": "3509a35d-6086-4d78-d65b-a7bbf4ee77bf"
      },
      "source": [
        "true_rows, false_rows = partition(train, Question(0, 'Red'))\n",
        "\n",
        "true_rows"
      ],
      "execution_count": 26,
      "outputs": [
        {
          "output_type": "execute_result",
          "data": {
            "text/plain": [
              "[['Red', 1, 'Grape'], ['Red', 1, 'Grape']]"
            ]
          },
          "metadata": {
            "tags": []
          },
          "execution_count": 26
        }
      ]
    },
    {
      "cell_type": "code",
      "metadata": {
        "id": "95Sd1y6xIMkF",
        "colab_type": "code",
        "colab": {}
      },
      "source": [
        "def class_counts(rows):\n",
        "    \"\"\"Counts the number of each type of example in a dataset.\"\"\"\n",
        "    counts = {}  # a dictionary of label -> count.\n",
        "    for row in rows:\n",
        "        # in our dataset format, the label is always the last column\n",
        "        label = row[-1]\n",
        "        if label not in counts:\n",
        "            counts[label] = 0\n",
        "        counts[label] += 1\n",
        "    return counts"
      ],
      "execution_count": 0,
      "outputs": []
    },
    {
      "cell_type": "code",
      "metadata": {
        "id": "rys7XvzaIzOy",
        "colab_type": "code",
        "colab": {}
      },
      "source": [
        "def gini(rows):\n",
        "  counts = class_counts(rows)\n",
        "  impurity = 1\n",
        "  for lbl in counts:\n",
        "    prob = counts[lbl]/float(len(rows))\n",
        "    impurity -= prob**2\n",
        "  return impurity"
      ],
      "execution_count": 0,
      "outputs": []
    },
    {
      "cell_type": "code",
      "metadata": {
        "id": "iVokfG3rJk42",
        "colab_type": "code",
        "colab": {}
      },
      "source": [
        "def info_gain(left,right,root):\n",
        "  p = float(len(left))/len(left)+len(right)\n",
        "  return root-p*gini(left)-(1-p)*gini(right)"
      ],
      "execution_count": 0,
      "outputs": []
    },
    {
      "cell_type": "code",
      "metadata": {
        "id": "O8Aueo-wJmeQ",
        "colab_type": "code",
        "colab": {}
      },
      "source": [
        "def find_best_split(rows):\n",
        "  best_gain =0\n",
        "  best_question = None\n",
        "  root = gini(rows)\n",
        "  n_features = len(rows[0])-1\n",
        "  \n",
        "  for col in range(n_features):\n",
        "    values = set([row[col] for row in rows])\n",
        "    for val in values:\n",
        "      q = Question(col,val)\n",
        "      \n",
        "      tr,fr = partition(rows,q)\n",
        "      \n",
        "      if len(tr)==0 or len(fr)==0:\n",
        "        continue\n",
        "       \n",
        "      gain = info_gain(tr,fr,root)\n",
        "      \n",
        "      if gain>=best_gain:\n",
        "        best_gain = gain\n",
        "        best_question = q\n",
        "  \n",
        "  return best_gain,best_question"
      ],
      "execution_count": 0,
      "outputs": []
    },
    {
      "cell_type": "code",
      "metadata": {
        "id": "JlHP6VFqMDR2",
        "colab_type": "code",
        "colab": {}
      },
      "source": [
        "class Decision_Node:\n",
        "\n",
        "    def __init__(self,\n",
        "                 question,\n",
        "                 true_branch,\n",
        "                 false_branch):\n",
        "        self.question = question\n",
        "        self.true_branch = true_branch\n",
        "        self.false_branch = false_branch\n",
        "        \n",
        "\n",
        "class Leaf:\n",
        "\n",
        "    def __init__(self, rows):\n",
        "        self.predictions = class_counts(rows)"
      ],
      "execution_count": 0,
      "outputs": []
    },
    {
      "cell_type": "code",
      "metadata": {
        "id": "mxeil0wiLiAR",
        "colab_type": "code",
        "colab": {}
      },
      "source": [
        "def build_tree(rows):\n",
        "  gain,question = find_best_split(rows)\n",
        "  \n",
        "  if gain==0:\n",
        "    return Leaf(rows)\n",
        "  \n",
        "  tr,fr = partition(rows,question)\n",
        "  left = build_tree(tr)\n",
        "  right = build_tree(fr)\n",
        "  return Decision_Node(question,left,right)\n",
        "  \n",
        "  \n",
        "def print_tree(node, spacing=\"\"):\n",
        "\n",
        "    # Base case: we've reached a leaf\n",
        "    if isinstance(node, Leaf):\n",
        "        print (spacing + \"Predict\", node.predictions)\n",
        "        return\n",
        "\n",
        "    # Print the question at this node\n",
        "    print (spacing + str(node.question))\n",
        "\n",
        "    # Call this function recursively on the true branch\n",
        "    print (spacing + '--> True:')\n",
        "    print_tree(node.true_branch, spacing + \"  \")\n",
        "\n",
        "    # Call this function recursively on the false branch\n",
        "    print (spacing + '--> False:')\n",
        "    print_tree(node.false_branch, spacing + \"  \")\n",
        "  "
      ],
      "execution_count": 0,
      "outputs": []
    },
    {
      "cell_type": "code",
      "metadata": {
        "id": "JCWtAj7WM1bS",
        "colab_type": "code",
        "colab": {
          "base_uri": "https://localhost:8080/",
          "height": 168
        },
        "outputId": "b7140d27-e865-4941-b3e5-78c6dbeb30bf"
      },
      "source": [
        "my_tree = build_tree(train)\n",
        "  \n",
        "  \n",
        "print_tree(my_tree)"
      ],
      "execution_count": 37,
      "outputs": [
        {
          "output_type": "stream",
          "text": [
            "Is color == Green?\n",
            "--> True:\n",
            "  Predict {'Apple': 1}\n",
            "--> False:\n",
            "  Is color == Red?\n",
            "  --> True:\n",
            "    Predict {'Grape': 2}\n",
            "  --> False:\n",
            "    Predict {'Apple': 1, 'Lemon': 1}\n"
          ],
          "name": "stdout"
        }
      ]
    },
    {
      "cell_type": "code",
      "metadata": {
        "id": "5U7iJ4OwM4GM",
        "colab_type": "code",
        "colab": {}
      },
      "source": [
        "def classify(row, node):\n",
        "\n",
        "    if isinstance(node, Leaf):\n",
        "        return node.predictions\n",
        "\n",
        "    if node.question.match(row):\n",
        "        return classify(row, node.true_branch)\n",
        "    else:\n",
        "        return classify(row, node.false_branch)"
      ],
      "execution_count": 0,
      "outputs": []
    },
    {
      "cell_type": "code",
      "metadata": {
        "id": "gvNS-sTWNHv6",
        "colab_type": "code",
        "colab": {
          "base_uri": "https://localhost:8080/",
          "height": 34
        },
        "outputId": "a7d8098a-f0a4-4bb6-a76f-3d576b556a39"
      },
      "source": [
        "classify(train[0], my_tree)"
      ],
      "execution_count": 40,
      "outputs": [
        {
          "output_type": "execute_result",
          "data": {
            "text/plain": [
              "{'Apple': 1}"
            ]
          },
          "metadata": {
            "tags": []
          },
          "execution_count": 40
        }
      ]
    },
    {
      "cell_type": "code",
      "metadata": {
        "id": "MdalqK9hNMjA",
        "colab_type": "code",
        "colab": {}
      },
      "source": [
        "def print_leaf(counts):\n",
        "\n",
        "    total = sum(counts.values()) * 1.0\n",
        "    probs = {}\n",
        "    for lbl in counts.keys():\n",
        "        probs[lbl] = str(int(counts[lbl] / total * 100)) + \"%\"\n",
        "    return probs"
      ],
      "execution_count": 0,
      "outputs": []
    },
    {
      "cell_type": "code",
      "metadata": {
        "id": "odlRWvS7Nfvv",
        "colab_type": "code",
        "colab": {
          "base_uri": "https://localhost:8080/",
          "height": 34
        },
        "outputId": "8fab65e6-afdf-4dfc-9fda-a9085c7aa2ec"
      },
      "source": [
        "print_leaf(classify(train[1], my_tree))"
      ],
      "execution_count": 43,
      "outputs": [
        {
          "output_type": "execute_result",
          "data": {
            "text/plain": [
              "{'Apple': '50%', 'Lemon': '50%'}"
            ]
          },
          "metadata": {
            "tags": []
          },
          "execution_count": 43
        }
      ]
    },
    {
      "cell_type": "code",
      "metadata": {
        "id": "vIe0f093NrG6",
        "colab_type": "code",
        "colab": {
          "base_uri": "https://localhost:8080/",
          "height": 101
        },
        "outputId": "4f8fa7a8-6ec9-415c-9ecd-47f9ab9bec97"
      },
      "source": [
        "test = [\n",
        "    ['Green', 3, 'Apple'],\n",
        "    ['Yellow', 4, 'Apple'],\n",
        "    ['Red', 2, 'Grape'],\n",
        "    ['Red', 1, 'Grape'],\n",
        "    ['Yellow', 3, 'Lemon'],\n",
        "]\n",
        "\n",
        "for td in test:\n",
        "  print('Actual '+td[-1]+\" Predicted :\"+str(print_leaf(classify(td, my_tree))))"
      ],
      "execution_count": 47,
      "outputs": [
        {
          "output_type": "stream",
          "text": [
            "Actual Apple Predicted :{'Apple': '100%'}\n",
            "Actual Apple Predicted :{'Apple': '50%', 'Lemon': '50%'}\n",
            "Actual Grape Predicted :{'Grape': '100%'}\n",
            "Actual Grape Predicted :{'Grape': '100%'}\n",
            "Actual Lemon Predicted :{'Apple': '50%', 'Lemon': '50%'}\n"
          ],
          "name": "stdout"
        }
      ]
    }
  ]
}